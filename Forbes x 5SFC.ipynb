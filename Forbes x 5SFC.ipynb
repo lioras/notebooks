{
 "cells": [
  {
   "cell_type": "code",
   "execution_count": 142,
   "metadata": {
    "collapsed": false
   },
   "outputs": [],
   "source": [
    "import pandas as pd\n",
    "import requests\n",
    "import json\n",
    "from pattern import web\n",
    "pd.options.display.max_rows = 200"
   ]
  },
  {
   "cell_type": "code",
   "execution_count": 163,
   "metadata": {
    "collapsed": false
   },
   "outputs": [],
   "source": [
    "# load emails from the google groups export\n",
    "emails = pd.DataFrame().from_csv(\"5sfc.csv\").reset_index()\n",
    "emails[\"nickname\"] = emails.Nickname.map(lambda x: x.lower() if type(x) is str else x)\n",
    "emails[\"email_handle\"] = emails[\"Email address\"].map(lambda x: x[:x.find(\"@\")].lower() if type(x) is str else x)"
   ]
  },
  {
   "cell_type": "code",
   "execution_count": 159,
   "metadata": {
    "collapsed": false
   },
   "outputs": [
    {
     "name": "stdout",
     "output_type": "stream",
     "text": [
      "Browsing category art-style\n",
      "Browsing category finance\n",
      "Browsing category consumer-tech\n",
      "Browsing category sports\n",
      "Browsing category hollywood-entertainment\n",
      "Browsing category retail-ecommerce\n",
      "Browsing category education\n",
      "Browsing category music\n",
      "Browsing category games\n",
      "Browsing category venture-capital\n",
      "Browsing category media\n",
      "Browsing category manufacturing-industry\n",
      "Browsing category enterprise-tech\n",
      "Browsing category food-drink\n",
      "Browsing category social-entrepreneurs\n",
      "Browsing category law-policy\n",
      "Browsing category science\n",
      "Browsing category marketing-advertising\n",
      "Browsing category energy\n",
      "Browsing category healthcare\n"
     ]
    }
   ],
   "source": [
    "master = requests.get(\"http://www.forbes.com/30-under-30-2016/\").text\n",
    "\n",
    "start_str = \"fbs_settings.promoted_content = \"\n",
    "end_str = \";\\n\\t\\t} catch(err)\"\n",
    "\n",
    "start = master.find(start_str) + len(start_str)\n",
    "end = master[start:].find(end_str)\n",
    "\n",
    "# retrieve the json-ified content\n",
    "master_content = json.loads(doc[start:][:end])\n",
    "\n",
    "# prepare the list of names\n",
    "f30 = []\n",
    "f30_category = []\n",
    "\n",
    "# find the tile blocks\n",
    "for key in master_content:\n",
    "    try:\n",
    "        if master_content[key]['contentPositions'][0]['description'].find(\" Tile\") != -1:\n",
    "            subsection = master_content[key]['contentPositions']\n",
    "\n",
    "            # go through each category\n",
    "            for c1 in subsection:\n",
    "                dom = web.DOM(c1['description'])\n",
    "\n",
    "                categories = dom(\"a.category\")\n",
    "                for c2 in categories:\n",
    "                    category_link = c2.href\n",
    "                    category_name = category_link.split(\"/\")[-1]\n",
    "                    cat = requests.get(category_link).text\n",
    "\n",
    "                    print \"Browsing category {0}\".format(category_name)\n",
    "\n",
    "                    # get the content position indices\n",
    "                    start = cat.find(start_str) + len(start_str)\n",
    "                    end = cat[start:].find(end_str)\n",
    "\n",
    "                    # retrieve the json-ified content\n",
    "                    content = json.loads(cat[start:][:end])\n",
    "\n",
    "                    # capture the keys that contain people data\n",
    "                    content_blocks = []\n",
    "\n",
    "                    for i in content:\n",
    "                        try:\n",
    "                            # look for contents that include the property 'age'. These are our 30 Under 30 tiles\n",
    "                            content[i]['contentPositions'][0]['age']\n",
    "                            content_blocks.append(i)\n",
    "                        except KeyError:\n",
    "                            try:\n",
    "                                \n",
    "                                # get the featured person\n",
    "                                content[i]['contentPositions'][0]['byline']\n",
    "                                f30.append(content[i]['contentPositions'][0]['byline'])\n",
    "                                f30_category.append(category_name)\n",
    "                            except KeyError:\n",
    "                                continue\n",
    "\n",
    "                    for i in content_blocks:\n",
    "                        for j in content[i]['contentPositions']:\n",
    "                            try:\n",
    "                                # find recipients in teams\n",
    "                                for k in j['members']:\n",
    "                                    f30.append(k['name'])\n",
    "                                    f30_category.append(category_name)\n",
    "                            except KeyError:\n",
    "                                # find solo recipients\n",
    "                                f30.append(j['title'])\n",
    "                                f30_category.append(category_name)\n",
    "    except KeyError:\n",
    "        continue\n"
   ]
  },
  {
   "cell_type": "code",
   "execution_count": 180,
   "metadata": {
    "collapsed": false
   },
   "outputs": [],
   "source": [
    "df = pd.DataFrame({\"full_name\" : f30, \"category\" : f30_category})#.to_csv(\"forbes_30under30_list.csv\", encoding='utf-8')"
   ]
  },
  {
   "cell_type": "code",
   "execution_count": 161,
   "metadata": {
    "collapsed": false
   },
   "outputs": [],
   "source": [
    "df[\"firstn\"] = df.full_name.apply(lambda x: x.split(\" \")[0])\n",
    "df[\"lastn\"] = df.full_name.apply(lambda x: x.split(\" \")[-1])\n",
    "last_names = list(df.lastn.map(lambda x: x.lower()).values)\n",
    "full_names = list(df.full_name.values)"
   ]
  },
  {
   "cell_type": "code",
   "execution_count": 162,
   "metadata": {
    "collapsed": false
   },
   "outputs": [
    {
     "data": {
      "text/html": [
       "<div style=\"max-height:1000px;max-width:1500px;overflow:auto;\">\n",
       "<table border=\"1\" class=\"dataframe\">\n",
       "  <thead>\n",
       "    <tr style=\"text-align: right;\">\n",
       "      <th></th>\n",
       "      <th>category</th>\n",
       "      <th>full_name</th>\n",
       "      <th>firstn</th>\n",
       "      <th>lastn</th>\n",
       "    </tr>\n",
       "  </thead>\n",
       "  <tbody>\n",
       "    <tr>\n",
       "      <th>0</th>\n",
       "      <td>art-style</td>\n",
       "      <td>Ashley Graham</td>\n",
       "      <td>Ashley</td>\n",
       "      <td>Graham</td>\n",
       "    </tr>\n",
       "    <tr>\n",
       "      <th>1</th>\n",
       "      <td>art-style</td>\n",
       "      <td>Madison Maxey</td>\n",
       "      <td>Madison</td>\n",
       "      <td>Maxey</td>\n",
       "    </tr>\n",
       "    <tr>\n",
       "      <th>2</th>\n",
       "      <td>art-style</td>\n",
       "      <td>Athena Papadopoulos</td>\n",
       "      <td>Athena</td>\n",
       "      <td>Papadopoulos</td>\n",
       "    </tr>\n",
       "    <tr>\n",
       "      <th>3</th>\n",
       "      <td>art-style</td>\n",
       "      <td>Ryder Ripps</td>\n",
       "      <td>Ryder</td>\n",
       "      <td>Ripps</td>\n",
       "    </tr>\n",
       "    <tr>\n",
       "      <th>4</th>\n",
       "      <td>art-style</td>\n",
       "      <td>Noa Santos</td>\n",
       "      <td>Noa</td>\n",
       "      <td>Santos</td>\n",
       "    </tr>\n",
       "  </tbody>\n",
       "</table>\n",
       "</div>"
      ],
      "text/plain": [
       "    category            full_name   firstn         lastn\n",
       "0  art-style        Ashley Graham   Ashley        Graham\n",
       "1  art-style        Madison Maxey  Madison         Maxey\n",
       "2  art-style  Athena Papadopoulos   Athena  Papadopoulos\n",
       "3  art-style          Ryder Ripps    Ryder         Ripps\n",
       "4  art-style           Noa Santos      Noa        Santos"
      ]
     },
     "execution_count": 162,
     "metadata": {},
     "output_type": "execute_result"
    }
   ],
   "source": [
    "df.head()"
   ]
  },
  {
   "cell_type": "code",
   "execution_count": 167,
   "metadata": {
    "collapsed": false
   },
   "outputs": [],
   "source": [
    "# search by last name (horribly inefficient)\n",
    "# for each last name in the Forbes list, see if it is found in either the subscriber's email or nickname\n",
    "email_search = emails.apply(lambda x: [i for i in range(0, len(last_names)) if x.email_handle.find(last_names[i]) != -1 or (x.nickname.find(last_names[i]) != -1 if type(x.Nickname) is str else False) ], axis=1)\n",
    "\n",
    "# filter for found results\n",
    "matches = email_search.map(len) > 0\n",
    "matched = emails[matches]\n",
    "email_search = email_search[matches]"
   ]
  },
  {
   "cell_type": "code",
   "execution_count": 178,
   "metadata": {
    "collapsed": false
   },
   "outputs": [
    {
     "data": {
      "text/html": [
       "<div style=\"max-height:1000px;max-width:1500px;overflow:auto;\">\n",
       "<table border=\"1\" class=\"dataframe\">\n",
       "  <thead>\n",
       "    <tr style=\"text-align: right;\">\n",
       "      <th></th>\n",
       "      <th>Nickname</th>\n",
       "      <th>exact_matches</th>\n",
       "    </tr>\n",
       "  </thead>\n",
       "  <tbody>\n",
       "    <tr>\n",
       "      <th>48</th>\n",
       "      <td>Brian Powers</td>\n",
       "      <td>[Brian Powers, Brian Powers]</td>\n",
       "    </tr>\n",
       "    <tr>\n",
       "      <th>63</th>\n",
       "      <td>Christopher Gray</td>\n",
       "      <td>[Christopher Gray]</td>\n",
       "    </tr>\n",
       "    <tr>\n",
       "      <th>101</th>\n",
       "      <td>Liz Wessel</td>\n",
       "      <td>[Liz Wessel]</td>\n",
       "    </tr>\n",
       "    <tr>\n",
       "      <th>155</th>\n",
       "      <td>Jesse Beyroutey</td>\n",
       "      <td>[Jesse Beyroutey]</td>\n",
       "    </tr>\n",
       "    <tr>\n",
       "      <th>323</th>\n",
       "      <td>Spencer Penn</td>\n",
       "      <td>[Spencer Penn]</td>\n",
       "    </tr>\n",
       "  </tbody>\n",
       "</table>\n",
       "</div>"
      ],
      "text/plain": [
       "             Nickname                 exact_matches\n",
       "48       Brian Powers  [Brian Powers, Brian Powers]\n",
       "63   Christopher Gray            [Christopher Gray]\n",
       "101        Liz Wessel                  [Liz Wessel]\n",
       "155   Jesse Beyroutey             [Jesse Beyroutey]\n",
       "323      Spencer Penn                [Spencer Penn]"
      ]
     },
     "execution_count": 178,
     "metadata": {},
     "output_type": "execute_result"
    }
   ],
   "source": [
    "# full names of those who matched by last name\n",
    "emails[\"possible_matches\"] = email_search.map(lambda x: [full_names[i] for i in x])\n",
    "\n",
    "# if the Nickname is filled out, see if there is an exact last name match. if so, see if the first letter of the first name also matches. \n",
    "emails[\"possible_matches\"] = emails[matches].apply(lambda x:  [ i for i in x.possible_matches if (x.nickname.split(\" \")[-1] == i.split(\" \")[-1].lower()) and (x.nickname[0] == i[0].lower()) ] if type(x.Nickname) is str and len(x.Nickname.split(\" \")) > 1 else x.possible_matches, axis=1)\n",
    "\n",
    "# see if there's any easy exact matches. Only if the nickname column was filled out\n",
    "emails[\"exact_matches\"] = emails.apply(lambda x: [i for i in x.possible_matches if type(x.Nickname) is str and x.Nickname.strip() == i] if type(x.possible_matches) is list else None, axis=1)\n",
    "\n",
    "# show exact matches\n",
    "emails[matches][emails[matches].exact_matches.map(len) > 0][[\"Nickname\", \"exact_matches\"]]\n"
   ]
  },
  {
   "cell_type": "code",
   "execution_count": 179,
   "metadata": {
    "collapsed": true
   },
   "outputs": [],
   "source": [
    "# export possible matches\n",
    "emails[matches][emails[matches].possible_matches.map(len) > 0][[\"Email address\",\"Nickname\", \"possible_matches\",\"exact_matches\"]].to_csv(\"F30U30_5SFC.csv\")"
   ]
  },
  {
   "cell_type": "code",
   "execution_count": null,
   "metadata": {
    "collapsed": true
   },
   "outputs": [],
   "source": []
  }
 ],
 "metadata": {
  "kernelspec": {
   "display_name": "Python 2",
   "language": "python",
   "name": "python2"
  },
  "language_info": {
   "codemirror_mode": {
    "name": "ipython",
    "version": 2
   },
   "file_extension": ".py",
   "mimetype": "text/x-python",
   "name": "python",
   "nbconvert_exporter": "python",
   "pygments_lexer": "ipython2",
   "version": "2.7.10"
  }
 },
 "nbformat": 4,
 "nbformat_minor": 0
}
